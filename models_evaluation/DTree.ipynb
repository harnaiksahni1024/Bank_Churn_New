{
 "cells": [
  {
   "cell_type": "code",
   "execution_count": 1,
   "id": "6cabbe61",
   "metadata": {},
   "outputs": [],
   "source": [
    "import pandas as pd\n",
    "import numpy as np\n",
    "from sklearn.model_selection import train_test_split, GridSearchCV\n",
    "from sklearn.preprocessing import StandardScaler, OneHotEncoder\n",
    "from sklearn.compose import ColumnTransformer\n",
    "from sklearn.pipeline import Pipeline\n",
    "from sklearn.metrics import (\n",
    "    roc_auc_score, classification_report,\n",
    "    precision_recall_curve\n",
    ")\n",
    "from sklearn.tree import DecisionTreeClassifier\n",
    "from imblearn.pipeline import Pipeline as ImbPipeline\n",
    "from imblearn.over_sampling import SMOTE\n"
   ]
  },
  {
   "cell_type": "code",
   "execution_count": 2,
   "id": "8e36d27f",
   "metadata": {},
   "outputs": [],
   "source": [
    "df = pd.read_csv(r\"C:\\Users\\dell\\OneDrive\\Desktop\\bank churn\\resources\\analytical_base_table.csv\")  # replace with actual data path\n",
    "X = df.drop(columns=['Exited'])\n",
    "y = df['Exited']\n",
    "\n",
    "# Split into train+val and test\n",
    "X_temp, X_test, y_temp, y_test = train_test_split(X, y, test_size=0.2, stratify=y, random_state=42)\n",
    "X_train, X_val, y_train, y_val = train_test_split(X_temp, y_temp, test_size=0.2, stratify=y_temp, random_state=42)\n",
    "\n",
    "# Define columns\n",
    "scale_cols = ['CreditScore', 'Age', 'Tenure', 'Balance', 'EstimatedSalary']\n",
    "cat_cols = ['Geography', 'Gender', 'HasCrCard', 'IsActiveMember', 'NumOfProducts']\n"
   ]
  },
  {
   "cell_type": "code",
   "execution_count": 3,
   "id": "c93eff1d",
   "metadata": {},
   "outputs": [],
   "source": [
    "preprocessor = ColumnTransformer([\n",
    "    ('num', StandardScaler(), scale_cols),\n",
    "    ('cat', OneHotEncoder(sparse_output=False, handle_unknown='ignore'), cat_cols)\n",
    "])\n"
   ]
  },
  {
   "cell_type": "code",
   "execution_count": 21,
   "id": "eae87055",
   "metadata": {},
   "outputs": [],
   "source": [
    "\n",
    "\n",
    "pipeline_weight = ImbPipeline([\n",
    "    ('preprocessor',preprocessor),\n",
    "    ('model',DecisionTreeClassifier(class_weight='balanced',random_state=42))\n",
    "    \n",
    "])"
   ]
  },
  {
   "cell_type": "code",
   "execution_count": 25,
   "id": "e815e75b",
   "metadata": {},
   "outputs": [],
   "source": [
    "\n",
    "\n",
    "param_weight = {\n",
    "    'model__max_leaf_nodes': [5,10,15], \n",
    "    'model__min_samples_split': [2, 3, 4],\n",
    "    'model__criterion': ['gini', 'entropy']\n",
    "}\n",
    "\n"
   ]
  },
  {
   "cell_type": "code",
   "execution_count": 26,
   "id": "e214f773",
   "metadata": {},
   "outputs": [],
   "source": [
    "\n",
    "\n",
    "grid_weight = GridSearchCV(\n",
    "    estimator = pipeline_weight,\n",
    "    param_grid = param_weight,\n",
    "    scoring='recall',\n",
    "    cv=5,n_jobs=-1,verbose=2\n",
    ")"
   ]
  },
  {
   "cell_type": "code",
   "execution_count": 27,
   "id": "a898c82d",
   "metadata": {},
   "outputs": [
    {
     "name": "stdout",
     "output_type": "stream",
     "text": [
      "Fitting 5 folds for each of 18 candidates, totalling 90 fits\n",
      "Best Params: {'model__criterion': 'entropy', 'model__max_leaf_nodes': 15, 'model__min_samples_split': 2}\n"
     ]
    }
   ],
   "source": [
    "grid_weight.fit(X_train,y_train)\n",
    "best_model_weight = grid_weight.best_estimator_\n",
    "print(\"Best Params:\", grid_weight.best_params_)"
   ]
  },
  {
   "cell_type": "code",
   "execution_count": 28,
   "id": "2f4029d4",
   "metadata": {},
   "outputs": [
    {
     "data": {
      "text/plain": [
       "0.7714854111405836"
      ]
     },
     "execution_count": 28,
     "metadata": {},
     "output_type": "execute_result"
    }
   ],
   "source": [
    "grid_weight.best_score_"
   ]
  },
  {
   "cell_type": "code",
   "execution_count": 29,
   "id": "2e294330",
   "metadata": {},
   "outputs": [],
   "source": [
    "y_pred = grid_weight.predict(X_test)\n"
   ]
  },
  {
   "cell_type": "code",
   "execution_count": 31,
   "id": "afe5df79",
   "metadata": {},
   "outputs": [],
   "source": [
    "y_pred_train = grid_weight.predict(X_train)"
   ]
  },
  {
   "cell_type": "code",
   "execution_count": null,
   "id": "9e9b38c1",
   "metadata": {},
   "outputs": [
    {
     "name": "stdout",
     "output_type": "stream",
     "text": [
      "              precision    recall  f1-score   support\n",
      "\n",
      "           0       0.74      0.93      0.83      4055\n",
      "           1       0.79      0.44      0.57      2345\n",
      "\n",
      "    accuracy                           0.75      6400\n",
      "   macro avg       0.77      0.69      0.70      6400\n",
      "weighted avg       0.76      0.75      0.73      6400\n",
      "\n"
     ]
    }
   ],
   "source": [
    "print(classification_report(y_pred_train,y_train))#training data "
   ]
  },
  {
   "cell_type": "code",
   "execution_count": null,
   "id": "8fecdcfb",
   "metadata": {},
   "outputs": [
    {
     "name": "stdout",
     "output_type": "stream",
     "text": [
      "              precision    recall  f1-score   support\n",
      "\n",
      "           0       0.74      0.93      0.82      1268\n",
      "           1       0.77      0.43      0.55       732\n",
      "\n",
      "    accuracy                           0.75      2000\n",
      "   macro avg       0.76      0.68      0.69      2000\n",
      "weighted avg       0.75      0.75      0.72      2000\n",
      "\n"
     ]
    }
   ],
   "source": [
    "from sklearn.metrics import classification_report\n",
    "print(classification_report(y_pred,y_test)) #test data "
   ]
  },
  {
   "cell_type": "markdown",
   "id": "54984079",
   "metadata": {},
   "source": [
    "##Class Weight"
   ]
  },
  {
   "cell_type": "code",
   "execution_count": 33,
   "id": "685160c7",
   "metadata": {},
   "outputs": [
    {
     "name": "stdout",
     "output_type": "stream",
     "text": [
      "Optimal Threshold (F1 max): 0.5441\n"
     ]
    }
   ],
   "source": [
    "prob_val_weight= best_model_weight.predict_proba(X_val)[:,1]\n",
    "precision_weight,recall_weight,thresholds_weight = precision_recall_curve(y_val,prob_val_weight)\n",
    "f1_score_weight= (2*precision_weight*recall_weight)/(precision_weight+recall_weight+1e-8)\n",
    "best_idx_weight = np.argmax(f1_score_weight)\n",
    "best_thres_weight = thresholds_weight[best_idx_weight]\n",
    "\n",
    "print(f\"Optimal Threshold (F1 max): {best_thres_weight:.4f}\")"
   ]
  },
  {
   "cell_type": "code",
   "execution_count": 34,
   "id": "9b8919d1",
   "metadata": {},
   "outputs": [
    {
     "name": "stdout",
     "output_type": "stream",
     "text": [
      "ROC-AUC on Test for weight: 0.8385\n",
      "              precision    recall  f1-score   support\n",
      "\n",
      "           0       0.93      0.74      0.82      1593\n",
      "           1       0.43      0.77      0.55       407\n",
      "\n",
      "    accuracy                           0.75      2000\n",
      "   macro avg       0.68      0.76      0.69      2000\n",
      "weighted avg       0.83      0.75      0.77      2000\n",
      "\n"
     ]
    }
   ],
   "source": [
    "prob_test_weight= best_model_weight.predict_proba(X_test)[:,1]\n",
    "y_test_pred_weight = (prob_test_weight >= best_thres_weight).astype(int)\n",
    "print(f\"ROC-AUC on Test for weight: {roc_auc_score(y_test, prob_test_weight):.4f}\")\n",
    "print(classification_report(y_test, y_test_pred_weight))"
   ]
  },
  {
   "cell_type": "markdown",
   "id": "57bd0c2b",
   "metadata": {},
   "source": [
    "If Churn is Expensive → Use Class Weights\n",
    "Churn cost is usually high → you’d rather catch more churners even if you annoy a few non-churners.\n",
    "\n",
    "Recall is more critical in such cases.\n",
    "\n",
    "Class Weights give you 70% recall of churners → good for proactive retention strategies."
   ]
  },
  {
   "cell_type": "code",
   "execution_count": 35,
   "id": "906a67d6",
   "metadata": {},
   "outputs": [
    {
     "name": "stdout",
     "output_type": "stream",
     "text": [
      "Threshold for Recall ≥ 75%: 0.5441\n"
     ]
    }
   ],
   "source": [
    "# Find threshold with recall >= 0.70 and highest possible precision\n",
    "recall_cutoff = 0.75\n",
    "valid_idxs = np.where(recall_weight >= recall_cutoff)[0]\n",
    "\n",
    "# Of those, pick the one with highest precision\n",
    "best_idx_recall = valid_idxs[np.argmax(precision_weight[valid_idxs])]\n",
    "best_thresh_recall = thresholds_weight[best_idx_recall]\n",
    "\n",
    "print(f\"Threshold for Recall ≥ 75%: {best_thresh_recall:.4f}\")\n"
   ]
  },
  {
   "cell_type": "code",
   "execution_count": 35,
   "id": "f82a9d90",
   "metadata": {},
   "outputs": [
    {
     "data": {
      "text/plain": [
       "(Pipeline(steps=[('preprocessor',\n",
       "                  ColumnTransformer(transformers=[('num', StandardScaler(),\n",
       "                                                   ['CreditScore', 'Age',\n",
       "                                                    'Tenure', 'Balance',\n",
       "                                                    'EstimatedSalary']),\n",
       "                                                  ('cat',\n",
       "                                                   OneHotEncoder(handle_unknown='ignore',\n",
       "                                                                 sparse_output=False),\n",
       "                                                   ['Geography', 'Gender',\n",
       "                                                    'HasCrCard',\n",
       "                                                    'IsActiveMember',\n",
       "                                                    'NumOfProducts'])])),\n",
       "                 ('model',\n",
       "                  DecisionTreeClassifier(class_weight='balanced',\n",
       "                                         criterion='entropy', max_leaf_nodes=20,\n",
       "                                         random_state=42))]),)"
      ]
     },
     "execution_count": 35,
     "metadata": {},
     "output_type": "execute_result"
    }
   ],
   "source": [
    "best_model_weight,\n"
   ]
  },
  {
   "cell_type": "code",
   "execution_count": 36,
   "id": "d95c1eda",
   "metadata": {},
   "outputs": [
    {
     "data": {
      "text/plain": [
       "0.5440979433241766"
      ]
     },
     "execution_count": 36,
     "metadata": {},
     "output_type": "execute_result"
    }
   ],
   "source": [
    "best_thres_weight"
   ]
  },
  {
   "cell_type": "code",
   "execution_count": 37,
   "id": "ccd51e45",
   "metadata": {},
   "outputs": [
    {
     "data": {
      "text/plain": [
       "['../models/dtree.pkl']"
      ]
     },
     "execution_count": 37,
     "metadata": {},
     "output_type": "execute_result"
    }
   ],
   "source": [
    "from joblib import dump\n",
    "\n",
    "model_package = {\n",
    "    'model':best_model_weight,\n",
    "    'threshold':best_thres_weight\n",
    "}\n",
    "dump(model_package,'../models/dtree.pkl')"
   ]
  },
  {
   "cell_type": "code",
   "execution_count": 41,
   "id": "dfb242a8",
   "metadata": {},
   "outputs": [
    {
     "data": {
      "text/html": [
       "<div>\n",
       "<style scoped>\n",
       "    .dataframe tbody tr th:only-of-type {\n",
       "        vertical-align: middle;\n",
       "    }\n",
       "\n",
       "    .dataframe tbody tr th {\n",
       "        vertical-align: top;\n",
       "    }\n",
       "\n",
       "    .dataframe thead th {\n",
       "        text-align: right;\n",
       "    }\n",
       "</style>\n",
       "<table border=\"1\" class=\"dataframe\">\n",
       "  <thead>\n",
       "    <tr style=\"text-align: right;\">\n",
       "      <th></th>\n",
       "      <th>CreditScore</th>\n",
       "      <th>Geography</th>\n",
       "      <th>Gender</th>\n",
       "      <th>Age</th>\n",
       "      <th>Tenure</th>\n",
       "      <th>Balance</th>\n",
       "      <th>NumOfProducts</th>\n",
       "      <th>HasCrCard</th>\n",
       "      <th>IsActiveMember</th>\n",
       "      <th>EstimatedSalary</th>\n",
       "      <th>Exited</th>\n",
       "    </tr>\n",
       "  </thead>\n",
       "  <tbody>\n",
       "    <tr>\n",
       "      <th>6996</th>\n",
       "      <td>623</td>\n",
       "      <td>Spain</td>\n",
       "      <td>Female</td>\n",
       "      <td>50</td>\n",
       "      <td>2</td>\n",
       "      <td>87116.71</td>\n",
       "      <td>1</td>\n",
       "      <td>1</td>\n",
       "      <td>1</td>\n",
       "      <td>104382.11</td>\n",
       "      <td>0</td>\n",
       "    </tr>\n",
       "  </tbody>\n",
       "</table>\n",
       "</div>"
      ],
      "text/plain": [
       "      CreditScore Geography  Gender  Age  Tenure   Balance  NumOfProducts  \\\n",
       "6996          623     Spain  Female   50       2  87116.71              1   \n",
       "\n",
       "      HasCrCard  IsActiveMember  EstimatedSalary  Exited  \n",
       "6996          1               1        104382.11       0  "
      ]
     },
     "execution_count": 41,
     "metadata": {},
     "output_type": "execute_result"
    }
   ],
   "source": [
    "df.sample()"
   ]
  },
  {
   "cell_type": "code",
   "execution_count": null,
   "id": "3bb0664b",
   "metadata": {},
   "outputs": [],
   "source": []
  }
 ],
 "metadata": {
  "kernelspec": {
   "display_name": "virtualenv",
   "language": "python",
   "name": "python3"
  },
  "language_info": {
   "codemirror_mode": {
    "name": "ipython",
    "version": 3
   },
   "file_extension": ".py",
   "mimetype": "text/x-python",
   "name": "python",
   "nbconvert_exporter": "python",
   "pygments_lexer": "ipython3",
   "version": "3.11.9"
  }
 },
 "nbformat": 4,
 "nbformat_minor": 5
}
