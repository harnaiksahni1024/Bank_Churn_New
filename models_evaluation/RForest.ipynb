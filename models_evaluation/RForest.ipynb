{
 "cells": [
  {
   "cell_type": "code",
   "execution_count": 2,
   "id": "9095dce3",
   "metadata": {},
   "outputs": [],
   "source": [
    "import pandas as pd\n",
    "import numpy as np\n",
    "from sklearn.model_selection import train_test_split, GridSearchCV\n",
    "from sklearn.preprocessing import StandardScaler, OneHotEncoder\n",
    "from sklearn.compose import ColumnTransformer\n",
    "from sklearn.pipeline import Pipeline\n",
    "from sklearn.metrics import (\n",
    "    roc_auc_score, classification_report,\n",
    "    precision_recall_curve\n",
    ")\n",
    "from sklearn.ensemble import RandomForestClassifier\n",
    "from imblearn.pipeline import Pipeline as ImbPipeline\n",
    "from imblearn.over_sampling import SMOTE\n"
   ]
  },
  {
   "cell_type": "code",
   "execution_count": 3,
   "id": "4b1c6cb6",
   "metadata": {},
   "outputs": [],
   "source": [
    "df = pd.read_csv(r\"C:\\Users\\dell\\OneDrive\\Desktop\\bank churn\\resources\\analytical_base_table.csv\")  # replace with actual data path\n",
    "X = df.drop(columns=['Exited'])\n",
    "y = df['Exited']\n",
    "\n",
    "# Split into train+val and test\n",
    "X_temp, X_test, y_temp, y_test = train_test_split(X, y, test_size=0.2, stratify=y, random_state=42)\n",
    "X_train, X_val, y_train, y_val = train_test_split(X_temp, y_temp, test_size=0.2, stratify=y_temp, random_state=42)\n",
    "\n",
    "# Define columns\n",
    "scale_cols = ['CreditScore', 'Age', 'Tenure', 'Balance', 'EstimatedSalary']\n",
    "cat_cols = ['Geography', 'Gender', 'HasCrCard', 'IsActiveMember', 'NumOfProducts']\n"
   ]
  },
  {
   "cell_type": "code",
   "execution_count": 4,
   "id": "ae5ff37d",
   "metadata": {},
   "outputs": [],
   "source": [
    "preprocessor = ColumnTransformer([\n",
    "    ('num', StandardScaler(), scale_cols),\n",
    "    ('cat', OneHotEncoder(sparse_output=False, handle_unknown='ignore'), cat_cols)\n",
    "])\n"
   ]
  },
  {
   "cell_type": "code",
   "execution_count": 7,
   "id": "61d959cd",
   "metadata": {},
   "outputs": [],
   "source": [
    "pipeline = ImbPipeline([\n",
    "    ('preprocessor',preprocessor),\n",
    "    ('model',RandomForestClassifier(class_weight='balanced'))\n",
    "]\n",
    ")"
   ]
  },
  {
   "cell_type": "code",
   "execution_count": 8,
   "id": "dbcd43a1",
   "metadata": {},
   "outputs": [],
   "source": [
    "param_grid={\n",
    " 'model__n_estimators' : [50, 100, 150],\n",
    " 'model__min_samples_leaf' : [1, 5 ,10, 15],\n",
    " 'model__min_samples_split' : [2, 3, 4]\n",
    "}"
   ]
  },
  {
   "cell_type": "code",
   "execution_count": 10,
   "id": "2e274bb7",
   "metadata": {},
   "outputs": [
    {
     "name": "stdout",
     "output_type": "stream",
     "text": [
      "Fitting 5 folds for each of 36 candidates, totalling 180 fits\n",
      "Best Params: {'model__min_samples_leaf': 10, 'model__min_samples_split': 2, 'model__n_estimators': 150}\n",
      "Cross validation roc auc score 0.8554232286492496\n"
     ]
    }
   ],
   "source": [
    "grid = GridSearchCV(\n",
    "    estimator = pipeline,\n",
    "    param_grid = param_grid,\n",
    "    scoring = 'roc_auc',\n",
    "    cv=5,n_jobs=-1,verbose=1\n",
    ")\n",
    "grid.fit(X_train, y_train)\n",
    "best_model = grid.best_estimator_\n",
    "print(\"Best Params:\", grid.best_params_)\n",
    "print(\"Cross validation roc auc score\" ,grid.best_score_)"
   ]
  },
  {
   "cell_type": "code",
   "execution_count": 11,
   "id": "8d18b232",
   "metadata": {},
   "outputs": [
    {
     "name": "stdout",
     "output_type": "stream",
     "text": [
      "Optimal Threshold (F1 max): 0.5785\n"
     ]
    }
   ],
   "source": [
    "probs_val = best_model.predict_proba(X_val)[:, 1]\n",
    "precision, recall, thresholds = precision_recall_curve(y_val, probs_val)\n",
    "\n",
    "f1_scores = 2 * (precision * recall) / (precision + recall + 1e-8)  # avoid div-by-zero\n",
    "best_idx = np.argmax(f1_scores)\n",
    "best_thresh = thresholds[best_idx]\n",
    "\n",
    "print(f\"Optimal Threshold (F1 max): {best_thresh:.4f}\")\n"
   ]
  },
  {
   "cell_type": "code",
   "execution_count": 12,
   "id": "aed60bff",
   "metadata": {},
   "outputs": [
    {
     "name": "stdout",
     "output_type": "stream",
     "text": [
      "ROC-AUC on Test: 0.8618\n",
      "              precision    recall  f1-score   support\n",
      "\n",
      "           0       0.90      0.91      0.90      1593\n",
      "           1       0.62      0.61      0.62       407\n",
      "\n",
      "    accuracy                           0.85      2000\n",
      "   macro avg       0.76      0.76      0.76      2000\n",
      "weighted avg       0.85      0.85      0.85      2000\n",
      "\n"
     ]
    }
   ],
   "source": [
    "probs_test = best_model.predict_proba(X_test)[:, 1]\n",
    "y_pred_test = (probs_test >= best_thresh).astype(int)\n",
    "\n",
    "print(f\"ROC-AUC on Test: {roc_auc_score(y_test, probs_test):.4f}\")\n",
    "print(classification_report(y_test, y_pred_test))\n"
   ]
  },
  {
   "cell_type": "code",
   "execution_count": 13,
   "id": "5dbecedb",
   "metadata": {},
   "outputs": [
    {
     "data": {
      "text/plain": [
       "['../models/rforest_model.pkl']"
      ]
     },
     "execution_count": 13,
     "metadata": {},
     "output_type": "execute_result"
    }
   ],
   "source": [
    "from joblib import dump\n",
    "\n",
    "model_package = {\n",
    "    'model':best_model,\n",
    "    'threshold':best_thresh\n",
    "}\n",
    "dump(model_package,'../models/rforest_model.pkl')"
   ]
  },
  {
   "cell_type": "code",
   "execution_count": null,
   "id": "ffa5d581",
   "metadata": {},
   "outputs": [],
   "source": []
  }
 ],
 "metadata": {
  "kernelspec": {
   "display_name": "virtualenv",
   "language": "python",
   "name": "python3"
  },
  "language_info": {
   "codemirror_mode": {
    "name": "ipython",
    "version": 3
   },
   "file_extension": ".py",
   "mimetype": "text/x-python",
   "name": "python",
   "nbconvert_exporter": "python",
   "pygments_lexer": "ipython3",
   "version": "3.11.9"
  }
 },
 "nbformat": 4,
 "nbformat_minor": 5
}
