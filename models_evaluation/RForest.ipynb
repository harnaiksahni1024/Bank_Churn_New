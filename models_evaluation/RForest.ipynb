{
 "cells": [
  {
   "cell_type": "code",
   "execution_count": 1,
   "id": "9095dce3",
   "metadata": {},
   "outputs": [],
   "source": [
    "import pandas as pd\n",
    "import numpy as np\n",
    "from sklearn.model_selection import train_test_split, GridSearchCV\n",
    "from sklearn.preprocessing import StandardScaler, OneHotEncoder\n",
    "from sklearn.compose import ColumnTransformer\n",
    "from sklearn.pipeline import Pipeline\n",
    "from sklearn.metrics import (\n",
    "    roc_auc_score, classification_report,\n",
    "    precision_recall_curve\n",
    ")\n",
    "from sklearn.ensemble import RandomForestClassifier\n",
    "from imblearn.pipeline import Pipeline as ImbPipeline\n",
    "from imblearn.over_sampling import SMOTE\n"
   ]
  },
  {
   "cell_type": "code",
   "execution_count": 2,
   "id": "4b1c6cb6",
   "metadata": {},
   "outputs": [],
   "source": [
    "df = pd.read_csv(r\"C:\\Users\\dell\\OneDrive\\Desktop\\bank churn\\resources\\analytical_base_table.csv\")  # replace with actual data path\n",
    "X = df.drop(columns=['Exited'])\n",
    "y = df['Exited']\n",
    "\n",
    "# Split into train+val and test\n",
    "X_temp, X_test, y_temp, y_test = train_test_split(X, y, test_size=0.2, stratify=y, random_state=42)\n",
    "X_train, X_val, y_train, y_val = train_test_split(X_temp, y_temp, test_size=0.2, stratify=y_temp, random_state=42)\n",
    "\n",
    "# Define columns\n",
    "scale_cols = ['CreditScore', 'Age', 'Tenure', 'Balance', 'EstimatedSalary']\n",
    "cat_cols = ['Geography', 'Gender', 'HasCrCard', 'IsActiveMember', 'NumOfProducts']\n"
   ]
  },
  {
   "cell_type": "code",
   "execution_count": 3,
   "id": "ae5ff37d",
   "metadata": {},
   "outputs": [],
   "source": [
    "preprocessor = ColumnTransformer([\n",
    "    ('num', StandardScaler(), scale_cols),\n",
    "    ('cat', OneHotEncoder(sparse_output=False, handle_unknown='ignore'), cat_cols)\n",
    "])\n"
   ]
  },
  {
   "cell_type": "code",
   "execution_count": 4,
   "id": "61d959cd",
   "metadata": {},
   "outputs": [],
   "source": [
    "pipeline = ImbPipeline([\n",
    "    ('preprocessor',preprocessor),\n",
    "    ('model',RandomForestClassifier(class_weight='balanced'))\n",
    "]\n",
    ")"
   ]
  },
  {
   "cell_type": "code",
   "execution_count": 7,
   "id": "dbcd43a1",
   "metadata": {},
   "outputs": [],
   "source": [
    "param_grid={\n",
    " 'model__n_estimators' : [150,200,250],\n",
    " 'model__min_samples_leaf' : [15,20,25],\n",
    " 'model__min_samples_split' : [3, 4,5]\n",
    "}"
   ]
  },
  {
   "cell_type": "code",
   "execution_count": 8,
   "id": "2e274bb7",
   "metadata": {},
   "outputs": [
    {
     "name": "stdout",
     "output_type": "stream",
     "text": [
      "Fitting 5 folds for each of 27 candidates, totalling 135 fits\n",
      "Best Params: {'model__min_samples_leaf': 25, 'model__min_samples_split': 3, 'model__n_estimators': 200}\n",
      "Cross validation recall score 0.7438697318007663\n"
     ]
    }
   ],
   "source": [
    "grid = GridSearchCV(\n",
    "    estimator = pipeline,\n",
    "    param_grid = param_grid,\n",
    "    scoring = 'recall',\n",
    "    cv=5,n_jobs=-1,verbose=1\n",
    ")\n",
    "grid.fit(X_train, y_train)\n",
    "best_model = grid.best_estimator_\n",
    "print(\"Best Params:\", grid.best_params_)\n",
    "print(\"Cross validation recall score\" ,grid.best_score_)"
   ]
  },
  {
   "cell_type": "code",
   "execution_count": 9,
   "id": "8d18b232",
   "metadata": {},
   "outputs": [
    {
     "name": "stdout",
     "output_type": "stream",
     "text": [
      "Optimal Threshold (F1 max): 0.5554\n"
     ]
    }
   ],
   "source": [
    "probs_val = best_model.predict_proba(X_val)[:, 1]\n",
    "precision, recall, thresholds = precision_recall_curve(y_val, probs_val)\n",
    "\n",
    "f1_scores = 2 * (precision * recall) / (precision + recall + 1e-8)  # avoid div-by-zero\n",
    "best_idx = np.argmax(f1_scores)\n",
    "best_thresh = thresholds[best_idx]\n",
    "\n",
    "print(f\"Optimal Threshold (F1 max): {best_thresh:.4f}\")\n"
   ]
  },
  {
   "cell_type": "code",
   "execution_count": 10,
   "id": "7b383c01",
   "metadata": {},
   "outputs": [
    {
     "name": "stdout",
     "output_type": "stream",
     "text": [
      "Threshold for Recall ≥ 70%: 0.4892\n"
     ]
    }
   ],
   "source": [
    "recall_cutoff = 0.75\n",
    "valid_idxs = np.where(recall >= recall_cutoff)[0]\n",
    "\n",
    "# Of those, pick the one with highest precision\n",
    "best_idx_recall = valid_idxs[np.argmax(precision[valid_idxs])]\n",
    "best_thresh_recall = thresholds[best_idx_recall]\n",
    "\n",
    "print(f\"Threshold for Recall ≥ 70%: {best_thresh_recall:.4f}\")"
   ]
  },
  {
   "cell_type": "code",
   "execution_count": 11,
   "id": "bcd0d6d9",
   "metadata": {},
   "outputs": [
    {
     "name": "stdout",
     "output_type": "stream",
     "text": [
      "ROC-AUC on Test: 0.8579\n",
      "Classification using Recall score threshold\n",
      "              precision    recall  f1-score   support\n",
      "\n",
      "           0       0.93      0.80      0.86      1593\n",
      "           1       0.50      0.76      0.60       407\n",
      "\n",
      "    accuracy                           0.79      2000\n",
      "   macro avg       0.71      0.78      0.73      2000\n",
      "weighted avg       0.84      0.79      0.81      2000\n",
      "\n"
     ]
    }
   ],
   "source": [
    "probs_test = best_model.predict_proba(X_test)[:, 1]\n",
    "y_pred_test_recall = (probs_test >= best_thresh_recall).astype(int)\n",
    "\n",
    "print(f\"ROC-AUC on Test: {roc_auc_score(y_test, probs_test):.4f}\")\n",
    "print(\"Classification using Recall score threshold\")\n",
    "print(classification_report(y_test, y_pred_test_recall))"
   ]
  },
  {
   "cell_type": "code",
   "execution_count": 12,
   "id": "aed60bff",
   "metadata": {},
   "outputs": [
    {
     "name": "stdout",
     "output_type": "stream",
     "text": [
      "ROC-AUC on Test: 0.8579\n",
      "Classification using F1 score threshold\n",
      "              precision    recall  f1-score   support\n",
      "\n",
      "           0       0.91      0.87      0.89      1593\n",
      "           1       0.56      0.68      0.62       407\n",
      "\n",
      "    accuracy                           0.83      2000\n",
      "   macro avg       0.74      0.77      0.75      2000\n",
      "weighted avg       0.84      0.83      0.83      2000\n",
      "\n"
     ]
    }
   ],
   "source": [
    "probs_test = best_model.predict_proba(X_test)[:, 1]\n",
    "y_pred_test = (probs_test >= best_thresh).astype(int)\n",
    "\n",
    "print(f\"ROC-AUC on Test: {roc_auc_score(y_test, probs_test):.4f}\")\n",
    "print(\"Classification using F1 score threshold\")\n",
    "print(classification_report(y_test, y_pred_test))\n"
   ]
  },
  {
   "cell_type": "code",
   "execution_count": 13,
   "id": "5dbecedb",
   "metadata": {},
   "outputs": [
    {
     "data": {
      "text/plain": [
       "['../models/rforest_model.pkl']"
      ]
     },
     "execution_count": 13,
     "metadata": {},
     "output_type": "execute_result"
    }
   ],
   "source": [
    "from joblib import dump\n",
    "\n",
    "model_package = {\n",
    "    'model':best_model,\n",
    "    'threshold':best_thresh_recall\n",
    "}\n",
    "dump(model_package,'../models/rforest_model.pkl')"
   ]
  },
  {
   "cell_type": "code",
   "execution_count": 14,
   "id": "ffa5d581",
   "metadata": {},
   "outputs": [
    {
     "data": {
      "text/plain": [
       "0.48916555821411317"
      ]
     },
     "execution_count": 14,
     "metadata": {},
     "output_type": "execute_result"
    }
   ],
   "source": [
    "best_thresh_recall"
   ]
  },
  {
   "cell_type": "code",
   "execution_count": 15,
   "id": "bbde5060",
   "metadata": {},
   "outputs": [],
   "source": [
    "probs_train = best_model.predict_proba(X_train)[:, 1]\n",
    "probs_val   = best_model.predict_proba(X_val)[:, 1]\n",
    "probs_test  = best_model.predict_proba(X_test)[:, 1]\n"
   ]
  },
  {
   "cell_type": "code",
   "execution_count": null,
   "id": "4bb1fb81",
   "metadata": {},
   "outputs": [],
   "source": [
    "y_train_pred = (probs_train >= best_thresh_recall).astype(int)\n",
    "y_val_pred   = (probs_val >= best_thresh_recall).astype(int)\n",
    "y_test_pred  = (probs_test >= best_thresh_recall).astype(int)\n"
   ]
  },
  {
   "cell_type": "code",
   "execution_count": 17,
   "id": "565286c0",
   "metadata": {},
   "outputs": [
    {
     "name": "stdout",
     "output_type": "stream",
     "text": [
      "\n",
      "--- Train ---\n",
      "Accuracy : 0.814375\n",
      "Precision: 0.5295315682281059\n",
      "Recall   : 0.7975460122699386\n",
      "F1 Score : 0.6364749082007344\n",
      "\n",
      "--- Validation ---\n",
      "Accuracy : 0.7925\n",
      "Precision: 0.4939516129032258\n",
      "Recall   : 0.7515337423312883\n",
      "F1 Score : 0.5961070559610705\n",
      "\n",
      "--- Test ---\n",
      "Accuracy : 0.7935\n",
      "Precision: 0.4951923076923077\n",
      "Recall   : 0.7592137592137592\n",
      "F1 Score : 0.5994180407371484\n"
     ]
    }
   ],
   "source": [
    "from sklearn.metrics import accuracy_score, precision_score, recall_score, f1_score\n",
    "\n",
    "def evaluate(y_true, y_pred, name):\n",
    "    print(f\"\\n--- {name} ---\")\n",
    "    print(\"Accuracy :\", accuracy_score(y_true, y_pred))\n",
    "    print(\"Precision:\", precision_score(y_true, y_pred))\n",
    "    print(\"Recall   :\", recall_score(y_true, y_pred))\n",
    "    print(\"F1 Score :\", f1_score(y_true, y_pred))\n",
    "\n",
    "evaluate(y_train, y_train_pred, \"Train\")\n",
    "evaluate(y_val, y_val_pred, \"Validation\")\n",
    "evaluate(y_test, y_test_pred, \"Test\")\n"
   ]
  },
  {
   "cell_type": "code",
   "execution_count": 18,
   "id": "5c016b31",
   "metadata": {},
   "outputs": [],
   "source": [
    "#hence no overfiiting"
   ]
  },
  {
   "cell_type": "code",
   "execution_count": null,
   "id": "31bf4370",
   "metadata": {},
   "outputs": [],
   "source": []
  }
 ],
 "metadata": {
  "kernelspec": {
   "display_name": "virtualenv",
   "language": "python",
   "name": "python3"
  },
  "language_info": {
   "codemirror_mode": {
    "name": "ipython",
    "version": 3
   },
   "file_extension": ".py",
   "mimetype": "text/x-python",
   "name": "python",
   "nbconvert_exporter": "python",
   "pygments_lexer": "ipython3",
   "version": "3.11.9"
  }
 },
 "nbformat": 4,
 "nbformat_minor": 5
}
