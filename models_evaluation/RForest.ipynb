{
 "cells": [
  {
   "cell_type": "code",
   "execution_count": 1,
   "id": "9095dce3",
   "metadata": {},
   "outputs": [],
   "source": [
    "import pandas as pd\n",
    "import numpy as np\n",
    "from sklearn.model_selection import train_test_split, GridSearchCV\n",
    "from sklearn.preprocessing import StandardScaler, OneHotEncoder\n",
    "from sklearn.compose import ColumnTransformer\n",
    "from sklearn.pipeline import Pipeline\n",
    "from sklearn.metrics import (\n",
    "    roc_auc_score, classification_report,\n",
    "    precision_recall_curve\n",
    ")\n",
    "from sklearn.ensemble import RandomForestClassifier\n",
    "from imblearn.pipeline import Pipeline as ImbPipeline\n",
    "from imblearn.over_sampling import SMOTE\n"
   ]
  },
  {
   "cell_type": "code",
   "execution_count": 2,
   "id": "4b1c6cb6",
   "metadata": {},
   "outputs": [],
   "source": [
    "df = pd.read_csv(r\"C:\\Users\\dell\\OneDrive\\Desktop\\bank churn\\resources\\analytical_base_table.csv\")  # replace with actual data path\n",
    "X = df.drop(columns=['Exited'])\n",
    "y = df['Exited']\n",
    "\n",
    "# Split into train+val and test\n",
    "X_temp, X_test, y_temp, y_test = train_test_split(X, y, test_size=0.2, stratify=y, random_state=42)\n",
    "X_train, X_val, y_train, y_val = train_test_split(X_temp, y_temp, test_size=0.2, stratify=y_temp, random_state=42)\n",
    "\n",
    "# Define columns\n",
    "scale_cols = ['CreditScore', 'Age', 'Tenure', 'Balance', 'EstimatedSalary']\n",
    "cat_cols = ['Geography', 'Gender', 'HasCrCard', 'IsActiveMember', 'NumOfProducts']\n"
   ]
  },
  {
   "cell_type": "code",
   "execution_count": 3,
   "id": "ae5ff37d",
   "metadata": {},
   "outputs": [],
   "source": [
    "preprocessor = ColumnTransformer([\n",
    "    ('num', StandardScaler(), scale_cols),\n",
    "    ('cat', OneHotEncoder(sparse_output=False, handle_unknown='ignore'), cat_cols)\n",
    "])\n"
   ]
  },
  {
   "cell_type": "code",
   "execution_count": 4,
   "id": "61d959cd",
   "metadata": {},
   "outputs": [],
   "source": [
    "pipeline = ImbPipeline([\n",
    "    ('preprocessor',preprocessor),\n",
    "    ('model',RandomForestClassifier(class_weight='balanced'))\n",
    "]\n",
    ")"
   ]
  },
  {
   "cell_type": "code",
   "execution_count": 5,
   "id": "dbcd43a1",
   "metadata": {},
   "outputs": [],
   "source": [
    "param_grid={\n",
    " 'model__n_estimators' : [150,200,250],\n",
    " 'model__min_samples_leaf' : [15,20,25],\n",
    " 'model__min_samples_split' : [3, 4,5]\n",
    "}"
   ]
  },
  {
   "cell_type": "code",
   "execution_count": 6,
   "id": "2e274bb7",
   "metadata": {},
   "outputs": [
    {
     "name": "stdout",
     "output_type": "stream",
     "text": [
      "Fitting 5 folds for each of 27 candidates, totalling 135 fits\n",
      "Best Params: {'model__min_samples_leaf': 25, 'model__min_samples_split': 5, 'model__n_estimators': 150}\n",
      "Cross validation recall score 0.742348953728264\n"
     ]
    }
   ],
   "source": [
    "grid = GridSearchCV(\n",
    "    estimator = pipeline,\n",
    "    param_grid = param_grid,\n",
    "    scoring = 'recall',\n",
    "    cv=5,n_jobs=-1,verbose=1\n",
    ")\n",
    "grid.fit(X_train, y_train)\n",
    "best_model = grid.best_estimator_\n",
    "print(\"Best Params:\", grid.best_params_)\n",
    "print(\"Cross validation recall score\" ,grid.best_score_)"
   ]
  },
  {
   "cell_type": "code",
   "execution_count": 7,
   "id": "8d18b232",
   "metadata": {},
   "outputs": [
    {
     "name": "stdout",
     "output_type": "stream",
     "text": [
      "Optimal Threshold (F1 max): 0.6073\n"
     ]
    }
   ],
   "source": [
    "probs_val = best_model.predict_proba(X_val)[:, 1]\n",
    "precision, recall, thresholds = precision_recall_curve(y_val, probs_val)\n",
    "\n",
    "f1_scores = 2 * (precision * recall) / (precision + recall + 1e-8)  # avoid div-by-zero\n",
    "best_idx = np.argmax(f1_scores)\n",
    "best_thresh = thresholds[best_idx]\n",
    "\n",
    "print(f\"Optimal Threshold (F1 max): {best_thresh:.4f}\")\n"
   ]
  },
  {
   "cell_type": "code",
   "execution_count": 8,
   "id": "7b383c01",
   "metadata": {},
   "outputs": [
    {
     "name": "stdout",
     "output_type": "stream",
     "text": [
      "Threshold for Recall ≥ 70%: 0.4796\n"
     ]
    }
   ],
   "source": [
    "recall_cutoff = 0.75\n",
    "valid_idxs = np.where(recall >= recall_cutoff)[0]\n",
    "\n",
    "# Of those, pick the one with highest precision\n",
    "best_idx_recall = valid_idxs[np.argmax(precision[valid_idxs])]\n",
    "best_thresh_recall = thresholds[best_idx_recall]\n",
    "\n",
    "print(f\"Threshold for Recall ≥ 70%: {best_thresh_recall:.4f}\")"
   ]
  },
  {
   "cell_type": "code",
   "execution_count": 9,
   "id": "bcd0d6d9",
   "metadata": {},
   "outputs": [
    {
     "name": "stdout",
     "output_type": "stream",
     "text": [
      "ROC-AUC on Test: 0.8593\n",
      "Classification using Recall score threshold\n",
      "              precision    recall  f1-score   support\n",
      "\n",
      "           0       0.93      0.79      0.85      1593\n",
      "           1       0.48      0.77      0.59       407\n",
      "\n",
      "    accuracy                           0.79      2000\n",
      "   macro avg       0.71      0.78      0.72      2000\n",
      "weighted avg       0.84      0.79      0.80      2000\n",
      "\n"
     ]
    }
   ],
   "source": [
    "probs_test = best_model.predict_proba(X_test)[:, 1]\n",
    "y_pred_test_recall = (probs_test >= best_thresh_recall).astype(int)\n",
    "\n",
    "print(f\"ROC-AUC on Test: {roc_auc_score(y_test, probs_test):.4f}\")\n",
    "print(\"Classification using Recall score threshold\")\n",
    "print(classification_report(y_test, y_pred_test_recall))"
   ]
  },
  {
   "cell_type": "code",
   "execution_count": 10,
   "id": "aed60bff",
   "metadata": {},
   "outputs": [
    {
     "name": "stdout",
     "output_type": "stream",
     "text": [
      "ROC-AUC on Test: 0.8593\n",
      "Classification using F1 score threshold\n",
      "              precision    recall  f1-score   support\n",
      "\n",
      "           0       0.90      0.90      0.90      1593\n",
      "           1       0.61      0.62      0.61       407\n",
      "\n",
      "    accuracy                           0.84      2000\n",
      "   macro avg       0.76      0.76      0.76      2000\n",
      "weighted avg       0.84      0.84      0.84      2000\n",
      "\n"
     ]
    }
   ],
   "source": [
    "probs_test = best_model.predict_proba(X_test)[:, 1]\n",
    "y_pred_test = (probs_test >= best_thresh).astype(int)\n",
    "\n",
    "print(f\"ROC-AUC on Test: {roc_auc_score(y_test, probs_test):.4f}\")\n",
    "print(\"Classification using F1 score threshold\")\n",
    "print(classification_report(y_test, y_pred_test))\n"
   ]
  },
  {
   "cell_type": "code",
   "execution_count": 11,
   "id": "5dbecedb",
   "metadata": {},
   "outputs": [
    {
     "data": {
      "text/plain": [
       "['../models/rforest_model.pkl']"
      ]
     },
     "execution_count": 11,
     "metadata": {},
     "output_type": "execute_result"
    }
   ],
   "source": [
    "from joblib import dump\n",
    "\n",
    "model_package = {\n",
    "    'model':best_model,\n",
    "    'threshold':best_thresh_recall\n",
    "}\n",
    "dump(model_package,'../models/rforest_model.pkl')"
   ]
  },
  {
   "cell_type": "code",
   "execution_count": 12,
   "id": "ffa5d581",
   "metadata": {},
   "outputs": [
    {
     "data": {
      "text/plain": [
       "0.47955724324361076"
      ]
     },
     "execution_count": 12,
     "metadata": {},
     "output_type": "execute_result"
    }
   ],
   "source": [
    "best_thresh_recall"
   ]
  },
  {
   "cell_type": "code",
   "execution_count": 13,
   "id": "bbde5060",
   "metadata": {},
   "outputs": [],
   "source": [
    "probs_train = best_model.predict_proba(X_train)[:, 1]\n",
    "probs_val   = best_model.predict_proba(X_val)[:, 1]\n",
    "probs_test  = best_model.predict_proba(X_test)[:, 1]\n"
   ]
  },
  {
   "cell_type": "code",
   "execution_count": 14,
   "id": "4bb1fb81",
   "metadata": {},
   "outputs": [],
   "source": [
    "y_train_pred = (probs_train >= best_thresh_recall).astype(int)\n",
    "y_val_pred   = (probs_val >= best_thresh_recall).astype(int)\n",
    "y_test_pred  = (probs_test >= best_thresh_recall).astype(int)\n"
   ]
  },
  {
   "cell_type": "code",
   "execution_count": 15,
   "id": "565286c0",
   "metadata": {},
   "outputs": [
    {
     "name": "stdout",
     "output_type": "stream",
     "text": [
      "\n",
      "--- Train ---\n",
      "Accuracy : 0.8065625\n",
      "Precision: 0.5160975609756098\n",
      "Recall   : 0.8113496932515337\n",
      "F1 Score : 0.6308884913536076\n",
      "\n",
      "--- Validation ---\n",
      "Accuracy : 0.784375\n",
      "Precision: 0.481335952848723\n",
      "Recall   : 0.7515337423312883\n",
      "F1 Score : 0.5868263473053892\n",
      "\n",
      "--- Test ---\n",
      "Accuracy : 0.7855\n",
      "Precision: 0.48297213622291024\n",
      "Recall   : 0.7665847665847666\n",
      "F1 Score : 0.5925925925925927\n"
     ]
    }
   ],
   "source": [
    "from sklearn.metrics import accuracy_score, precision_score, recall_score, f1_score\n",
    "\n",
    "def evaluate(y_true, y_pred, name):\n",
    "    print(f\"\\n--- {name} ---\")\n",
    "    print(\"Accuracy :\", accuracy_score(y_true, y_pred))\n",
    "    print(\"Precision:\", precision_score(y_true, y_pred))\n",
    "    print(\"Recall   :\", recall_score(y_true, y_pred))\n",
    "    print(\"F1 Score :\", f1_score(y_true, y_pred))\n",
    "\n",
    "evaluate(y_train, y_train_pred, \"Train\")\n",
    "evaluate(y_val, y_val_pred, \"Validation\")\n",
    "evaluate(y_test, y_test_pred, \"Test\")\n"
   ]
  },
  {
   "cell_type": "code",
   "execution_count": 16,
   "id": "5c016b31",
   "metadata": {},
   "outputs": [],
   "source": [
    "#hence no overfiiting"
   ]
  },
  {
   "cell_type": "code",
   "execution_count": 17,
   "id": "31bf4370",
   "metadata": {},
   "outputs": [],
   "source": [
    "rf_model = best_model.named_steps['model']\n"
   ]
  },
  {
   "cell_type": "code",
   "execution_count": null,
   "id": "16d2a9f6",
   "metadata": {},
   "outputs": [
    {
     "data": {
      "text/html": [
       "<div>\n",
       "<style scoped>\n",
       "    .dataframe tbody tr th:only-of-type {\n",
       "        vertical-align: middle;\n",
       "    }\n",
       "\n",
       "    .dataframe tbody tr th {\n",
       "        vertical-align: top;\n",
       "    }\n",
       "\n",
       "    .dataframe thead th {\n",
       "        text-align: right;\n",
       "    }\n",
       "</style>\n",
       "<table border=\"1\" class=\"dataframe\">\n",
       "  <thead>\n",
       "    <tr style=\"text-align: right;\">\n",
       "      <th></th>\n",
       "      <th>CreditScore</th>\n",
       "      <th>Geography</th>\n",
       "      <th>Gender</th>\n",
       "      <th>Age</th>\n",
       "      <th>Tenure</th>\n",
       "      <th>Balance</th>\n",
       "      <th>NumOfProducts</th>\n",
       "      <th>HasCrCard</th>\n",
       "      <th>IsActiveMember</th>\n",
       "      <th>EstimatedSalary</th>\n",
       "    </tr>\n",
       "  </thead>\n",
       "  <tbody>\n",
       "    <tr>\n",
       "      <th>3006</th>\n",
       "      <td>747</td>\n",
       "      <td>France</td>\n",
       "      <td>Female</td>\n",
       "      <td>45</td>\n",
       "      <td>1</td>\n",
       "      <td>114959.12</td>\n",
       "      <td>1</td>\n",
       "      <td>1</td>\n",
       "      <td>0</td>\n",
       "      <td>189362.39</td>\n",
       "    </tr>\n",
       "    <tr>\n",
       "      <th>5735</th>\n",
       "      <td>585</td>\n",
       "      <td>Spain</td>\n",
       "      <td>Female</td>\n",
       "      <td>44</td>\n",
       "      <td>4</td>\n",
       "      <td>0.00</td>\n",
       "      <td>2</td>\n",
       "      <td>0</td>\n",
       "      <td>1</td>\n",
       "      <td>101728.46</td>\n",
       "    </tr>\n",
       "    <tr>\n",
       "      <th>5652</th>\n",
       "      <td>691</td>\n",
       "      <td>France</td>\n",
       "      <td>Female</td>\n",
       "      <td>29</td>\n",
       "      <td>9</td>\n",
       "      <td>0.00</td>\n",
       "      <td>2</td>\n",
       "      <td>0</td>\n",
       "      <td>0</td>\n",
       "      <td>199635.93</td>\n",
       "    </tr>\n",
       "    <tr>\n",
       "      <th>26</th>\n",
       "      <td>756</td>\n",
       "      <td>Germany</td>\n",
       "      <td>Male</td>\n",
       "      <td>36</td>\n",
       "      <td>2</td>\n",
       "      <td>136815.64</td>\n",
       "      <td>1</td>\n",
       "      <td>1</td>\n",
       "      <td>1</td>\n",
       "      <td>170041.95</td>\n",
       "    </tr>\n",
       "    <tr>\n",
       "      <th>3596</th>\n",
       "      <td>643</td>\n",
       "      <td>France</td>\n",
       "      <td>Male</td>\n",
       "      <td>36</td>\n",
       "      <td>0</td>\n",
       "      <td>148159.71</td>\n",
       "      <td>1</td>\n",
       "      <td>0</td>\n",
       "      <td>0</td>\n",
       "      <td>55835.66</td>\n",
       "    </tr>\n",
       "    <tr>\n",
       "      <th>...</th>\n",
       "      <td>...</td>\n",
       "      <td>...</td>\n",
       "      <td>...</td>\n",
       "      <td>...</td>\n",
       "      <td>...</td>\n",
       "      <td>...</td>\n",
       "      <td>...</td>\n",
       "      <td>...</td>\n",
       "      <td>...</td>\n",
       "      <td>...</td>\n",
       "    </tr>\n",
       "    <tr>\n",
       "      <th>3239</th>\n",
       "      <td>762</td>\n",
       "      <td>Spain</td>\n",
       "      <td>Female</td>\n",
       "      <td>19</td>\n",
       "      <td>6</td>\n",
       "      <td>0.00</td>\n",
       "      <td>2</td>\n",
       "      <td>1</td>\n",
       "      <td>0</td>\n",
       "      <td>55500.17</td>\n",
       "    </tr>\n",
       "    <tr>\n",
       "      <th>413</th>\n",
       "      <td>693</td>\n",
       "      <td>Germany</td>\n",
       "      <td>Female</td>\n",
       "      <td>41</td>\n",
       "      <td>9</td>\n",
       "      <td>181461.48</td>\n",
       "      <td>3</td>\n",
       "      <td>1</td>\n",
       "      <td>1</td>\n",
       "      <td>187929.43</td>\n",
       "    </tr>\n",
       "    <tr>\n",
       "      <th>5787</th>\n",
       "      <td>729</td>\n",
       "      <td>Germany</td>\n",
       "      <td>Male</td>\n",
       "      <td>26</td>\n",
       "      <td>4</td>\n",
       "      <td>97268.10</td>\n",
       "      <td>2</td>\n",
       "      <td>1</td>\n",
       "      <td>0</td>\n",
       "      <td>39356.38</td>\n",
       "    </tr>\n",
       "    <tr>\n",
       "      <th>860</th>\n",
       "      <td>667</td>\n",
       "      <td>France</td>\n",
       "      <td>Male</td>\n",
       "      <td>43</td>\n",
       "      <td>8</td>\n",
       "      <td>190227.46</td>\n",
       "      <td>1</td>\n",
       "      <td>1</td>\n",
       "      <td>0</td>\n",
       "      <td>97508.04</td>\n",
       "    </tr>\n",
       "    <tr>\n",
       "      <th>1558</th>\n",
       "      <td>571</td>\n",
       "      <td>France</td>\n",
       "      <td>Female</td>\n",
       "      <td>35</td>\n",
       "      <td>1</td>\n",
       "      <td>104783.81</td>\n",
       "      <td>2</td>\n",
       "      <td>0</td>\n",
       "      <td>1</td>\n",
       "      <td>178512.52</td>\n",
       "    </tr>\n",
       "  </tbody>\n",
       "</table>\n",
       "<p>6400 rows × 10 columns</p>\n",
       "</div>"
      ],
      "text/plain": [
       "      CreditScore Geography  Gender  Age  Tenure    Balance  NumOfProducts  \\\n",
       "3006          747    France  Female   45       1  114959.12              1   \n",
       "5735          585     Spain  Female   44       4       0.00              2   \n",
       "5652          691    France  Female   29       9       0.00              2   \n",
       "26            756   Germany    Male   36       2  136815.64              1   \n",
       "3596          643    France    Male   36       0  148159.71              1   \n",
       "...           ...       ...     ...  ...     ...        ...            ...   \n",
       "3239          762     Spain  Female   19       6       0.00              2   \n",
       "413           693   Germany  Female   41       9  181461.48              3   \n",
       "5787          729   Germany    Male   26       4   97268.10              2   \n",
       "860           667    France    Male   43       8  190227.46              1   \n",
       "1558          571    France  Female   35       1  104783.81              2   \n",
       "\n",
       "      HasCrCard  IsActiveMember  EstimatedSalary  \n",
       "3006          1               0        189362.39  \n",
       "5735          0               1        101728.46  \n",
       "5652          0               0        199635.93  \n",
       "26            1               1        170041.95  \n",
       "3596          0               0         55835.66  \n",
       "...         ...             ...              ...  \n",
       "3239          1               0         55500.17  \n",
       "413           1               1        187929.43  \n",
       "5787          1               0         39356.38  \n",
       "860           1               0         97508.04  \n",
       "1558          0               1        178512.52  \n",
       "\n",
       "[6400 rows x 10 columns]"
      ]
     },
     "execution_count": 21,
     "metadata": {},
     "output_type": "execute_result"
    }
   ],
   "source": []
  },
  {
   "cell_type": "code",
   "execution_count": 24,
   "id": "4e758958",
   "metadata": {},
   "outputs": [],
   "source": [
    "preprocessor_1 = best_model.named_steps['preprocessor']  # or whatever name you used\n"
   ]
  },
  {
   "cell_type": "code",
   "execution_count": 25,
   "id": "11d59eeb",
   "metadata": {},
   "outputs": [],
   "source": [
    "scale_cols = ['CreditScore', 'Age', 'Tenure', 'Balance', 'EstimatedSalary']\n",
    "cat_cols = ['Geography', 'Gender', 'HasCrCard', 'IsActiveMember', 'NumOfProducts']\n"
   ]
  },
  {
   "cell_type": "code",
   "execution_count": 26,
   "id": "eb94f5c6",
   "metadata": {},
   "outputs": [],
   "source": [
    "encoded_cat_names = preprocessor_1.named_transformers_['cat'].get_feature_names_out(cat_cols)\n",
    "all_feature_names = np.concatenate([scale_cols, encoded_cat_names])"
   ]
  },
  {
   "cell_type": "code",
   "execution_count": 27,
   "id": "aad2b4af",
   "metadata": {},
   "outputs": [],
   "source": [
    "importances = rf_model.feature_importances_"
   ]
  },
  {
   "cell_type": "code",
   "execution_count": 28,
   "id": "0aa3a2c3",
   "metadata": {},
   "outputs": [
    {
     "name": "stdout",
     "output_type": "stream",
     "text": [
      "              Feature  Importance\n",
      "1                 Age    0.326582\n",
      "15    NumOfProducts_2    0.186600\n",
      "3             Balance    0.088427\n",
      "14    NumOfProducts_1    0.063835\n",
      "6   Geography_Germany    0.047953\n",
      "16    NumOfProducts_3    0.046614\n",
      "12   IsActiveMember_0    0.043273\n",
      "4     EstimatedSalary    0.039785\n",
      "13   IsActiveMember_1    0.037200\n",
      "0         CreditScore    0.036091\n"
     ]
    }
   ],
   "source": [
    "feat_imp_df = pd.DataFrame({\n",
    "    'Feature': all_feature_names,\n",
    "    'Importance': importances\n",
    "}).sort_values(by='Importance', ascending=False)\n",
    "\n",
    "# Display top features\n",
    "print(feat_imp_df.head(10))"
   ]
  },
  {
   "cell_type": "markdown",
   "id": "dd896ca4",
   "metadata": {},
   "source": [
    "Age is by far the most influential factor — older customers likely have higher churn risk.\n",
    "\n",
    "Number of Products (one-hot encoded) is critical. Customers with 2 products are more likely to churn compared to 1 or 3.\n",
    "\n",
    "Balance and Estimated Salary show moderate influence, possibly linked to financial satisfaction.\n",
    "\n",
    "IsActiveMember flags are important — inactive members (0) are more prone to churn.\n",
    "\n",
    "Geography_Germany matters more than other regions (likely due to customer behavior patterns in that region).\n",
    "\n",
    "Credit Score, while often assumed critical, is comparatively less important in your trained model.\n",
    "\n"
   ]
  },
  {
   "cell_type": "code",
   "execution_count": 29,
   "id": "a57a0292",
   "metadata": {},
   "outputs": [],
   "source": [
    "# Take a small sample to speed things up\n",
    "X_sample = X_train.sample(100, random_state=42)\n"
   ]
  },
  {
   "cell_type": "code",
   "execution_count": 31,
   "id": "d51d062c",
   "metadata": {},
   "outputs": [],
   "source": [
    "best_pipeline = grid.best_estimator_\n",
    "\n",
    "# Extract the preprocessing step\n",
    "preprocessor = best_pipeline.named_steps['preprocessor']\n",
    "\n",
    "# Extract the trained Random Forest model\n",
    "rf_model = best_pipeline.named_steps['model']"
   ]
  },
  {
   "cell_type": "code",
   "execution_count": 32,
   "id": "5a258310",
   "metadata": {},
   "outputs": [],
   "source": [
    "X_transformed = preprocessor.transform(X_sample)"
   ]
  },
  {
   "cell_type": "code",
   "execution_count": 33,
   "id": "50db8716",
   "metadata": {},
   "outputs": [],
   "source": [
    "try:\n",
    "    feature_names = preprocessor.get_feature_names_out()\n",
    "except:\n",
    "    feature_names = [f'feature_{i}' for i in range(X_transformed.shape[1])]"
   ]
  },
  {
   "cell_type": "code",
   "execution_count": 34,
   "id": "c0e7cc11",
   "metadata": {},
   "outputs": [
    {
     "data": {
      "text/plain": [
       "array(['num__CreditScore', 'num__Age', 'num__Tenure', 'num__Balance',\n",
       "       'num__EstimatedSalary', 'cat__Geography_France',\n",
       "       'cat__Geography_Germany', 'cat__Geography_Spain',\n",
       "       'cat__Gender_Female', 'cat__Gender_Male', 'cat__HasCrCard_0',\n",
       "       'cat__HasCrCard_1', 'cat__IsActiveMember_0',\n",
       "       'cat__IsActiveMember_1', 'cat__NumOfProducts_1',\n",
       "       'cat__NumOfProducts_2', 'cat__NumOfProducts_3',\n",
       "       'cat__NumOfProducts_4'], dtype=object)"
      ]
     },
     "execution_count": 34,
     "metadata": {},
     "output_type": "execute_result"
    }
   ],
   "source": [
    "feature_names"
   ]
  },
  {
   "cell_type": "code",
   "execution_count": 35,
   "id": "ad582ce9",
   "metadata": {},
   "outputs": [],
   "source": [
    "import shap\n",
    "\n",
    "# Use TreeExplainer since it's a Random Forest\n",
    "explainer = shap.TreeExplainer(rf_model)\n",
    "shap_values = explainer.shap_values(X_transformed)\n"
   ]
  },
  {
   "cell_type": "code",
   "execution_count": 36,
   "id": "1a2370dc",
   "metadata": {},
   "outputs": [
    {
     "data": {
      "image/png": "[encoded data removed]",
      "text/plain": [
       "<Figure size 800x870 with 2 Axes>"
      ]
     },
     "metadata": {},
     "output_type": "display_data"
    }
   ],
   "source": [
    "# Plot for the class = 1 (churned customers)\n",
    "shap.summary_plot(shap_values[1], X_transformed, feature_names=feature_names)\n"
   ]
  },
  {
   "cell_type": "markdown",
   "id": "f122d2bb",
   "metadata": {},
   "source": [
    "| Feature                  | Description (based on SHAP plot) | Interpretation                                         |\n",
    "| ------------------------ | -------------------------------- | ------------------------------------------------------ |\n",
    "| `num__Age`               | Strongest feature                | **Older age → higher churn**                           |\n",
    "| `cat__NumOfProducts_2`   | High impact                      | Having **2 products → lower churn** (red on left side) |\n",
    "| `cat__Geography_Germany` | Strong churn indicator           | **German customers → higher churn**                    |\n",
    "| `cat__IsActiveMember_0`  | Strong positive SHAP values      | **Not active → higher churn**                          |\n",
    "| `num__Balance`           | Medium influence                 | Mixed — depends on combination with other features     |\n",
    "| `cat__Gender_Female`     | Slight positive effect           | **Females → slightly higher churn**                    |\n",
    "| `cat__NumOfProducts_1/3` | Moderate                         | Too few or too many products might signal churn risk   |\n",
    "| `num__EstimatedSalary`   | Very weak influence              | Model doesn’t rely much on this                        |\n"
   ]
  },
  {
   "cell_type": "code",
   "execution_count": null,
   "id": "e1cd02a2",
   "metadata": {},
   "outputs": [],
   "source": []
  }
 ],
 "metadata": {
  "kernelspec": {
   "display_name": "virtualenv",
   "language": "python",
   "name": "python3"
  },
  "language_info": {
   "codemirror_mode": {
    "name": "ipython",
    "version": 3
   },
   "file_extension": ".py",
   "mimetype": "text/x-python",
   "name": "python",
   "nbconvert_exporter": "python",
   "pygments_lexer": "ipython3",
   "version": "3.11.9"
  }
 },
 "nbformat": 4,
 "nbformat_minor": 5
}
